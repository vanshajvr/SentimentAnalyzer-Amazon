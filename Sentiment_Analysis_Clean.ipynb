{
 "cells": [
  {
   "cell_type": "markdown",
   "metadata": {
    "id": "mnZeiQpDZfb_"
   },
   "source": [
    "#Sentiment Analysis in Python"
   ]
  },
  {
   "cell_type": "markdown",
   "metadata": {
    "id": "agmmjJovZvVj"
   },
   "source": [
    "In this notebook we will be doing some sentiment analysis in python using two different techniques:\n",
    "\n",
    "  1.VADER (Valence Aware Dictionary and sEntiment Reasoner) - Bag of words approach\n",
    "\n",
    "  2.Roberta Pretrained Model from 🤗\n",
    "\n",
    "  3.Huggingface Pipeline"
   ]
  },
  {
   "cell_type": "markdown",
   "metadata": {
    "id": "ukN8QeB9aIXT"
   },
   "source": [
    "#Step 0: Read in Data and NLTK basics"
   ]
  },
  {
   "cell_type": "code",
   "execution_count": null,
   "metadata": {
    "id": "RQnZ5VMBZXkv"
   },
   "outputs": [],
   "source": [
    "import pandas as pd\n",
    "import numpy as np\n",
    "import matplotlib.pyplot as plt\n",
    "import seaborn as sns\n",
    "\n",
    "plt.style.use('ggplot')\n",
    "\n",
    "import nltk\n",
    "#nltk is natural language toolkit, used to work with human language data."
   ]
  },
  {
   "cell_type": "code",
   "execution_count": null,
   "metadata": {
    "id": "4zd8HjKtaZA8"
   },
   "outputs": [],
   "source": [
    "#read in data\n",
    "df=pd.read_csv('/content/Reviews.csv')"
   ]
  },
  {
   "cell_type": "code",
   "execution_count": null,
   "metadata": {
    "colab": {
     "base_uri": "https://localhost:8080/",
     "height": 695
    },
    "id": "ilhBYWf4akU6",
    "outputId": "dd700f09-6a95-4888-88a6-b6335de87082"
   },
   "outputs": [],
   "source": [
    "df.head()"
   ]
  },
  {
   "cell_type": "code",
   "execution_count": null,
   "metadata": {
    "colab": {
     "base_uri": "https://localhost:8080/",
     "height": 87
    },
    "id": "QwN0F9-Vc4vB",
    "outputId": "ad4d5436-cb31-4668-ea77-65eb36ab963e"
   },
   "outputs": [],
   "source": [
    "df['Text'].values[0]"
   ]
  },
  {
   "cell_type": "code",
   "execution_count": null,
   "metadata": {
    "colab": {
     "base_uri": "https://localhost:8080/"
    },
    "id": "ABT8uZ1Cc_rp",
    "outputId": "2ea038ee-c41e-42b2-cbe2-844a090f2b04"
   },
   "outputs": [],
   "source": [
    "print(df.shape)"
   ]
  },
  {
   "cell_type": "code",
   "execution_count": null,
   "metadata": {
    "id": "J8lDIctSdGes"
   },
   "outputs": [],
   "source": [
    "df=df.head(500)"
   ]
  },
  {
   "cell_type": "code",
   "execution_count": null,
   "metadata": {
    "colab": {
     "base_uri": "https://localhost:8080/"
    },
    "id": "rBmlZffddLkS",
    "outputId": "c357ef84-cba4-415f-bc84-8ab1dada051f"
   },
   "outputs": [],
   "source": [
    "df.shape"
   ]
  },
  {
   "cell_type": "code",
   "execution_count": null,
   "metadata": {
    "colab": {
     "base_uri": "https://localhost:8080/",
     "height": 695
    },
    "id": "AKscpH1HdNFf",
    "outputId": "8e030d56-0d39-416f-909b-3afb7bd84bb4"
   },
   "outputs": [],
   "source": [
    "df.head()"
   ]
  },
  {
   "cell_type": "markdown",
   "metadata": {
    "id": "osNu1zEzdVBx"
   },
   "source": [
    "#Quick EDA"
   ]
  },
  {
   "cell_type": "code",
   "execution_count": null,
   "metadata": {
    "colab": {
     "base_uri": "https://localhost:8080/",
     "height": 372
    },
    "id": "HB_O9wBcdTZd",
    "outputId": "9cf14954-e7e9-4bf3-e80f-fb8e663d3f2f"
   },
   "outputs": [],
   "source": [
    "ax=df['Score'].value_counts().sort_index()\\\n",
    "  .plot(kind='bar',\n",
    "        title='Count of Reviews by Stars',\n",
    "        figsize=(10,5))\n",
    "ax.set_xlabel('Review Stars')\n",
    "plt.show()"
   ]
  },
  {
   "cell_type": "markdown",
   "metadata": {
    "id": "5MkylofeeL9T"
   },
   "source": [
    "#Basic NLTK"
   ]
  },
  {
   "cell_type": "code",
   "execution_count": null,
   "metadata": {
    "colab": {
     "base_uri": "https://localhost:8080/"
    },
    "id": "-vyYtD5hdhnZ",
    "outputId": "d7629aea-ad8e-48c5-973a-ee05fd6f7e56"
   },
   "outputs": [],
   "source": [
    "example=df['Text'][50]\n",
    "print(example)"
   ]
  },
  {
   "cell_type": "code",
   "execution_count": null,
   "metadata": {
    "colab": {
     "base_uri": "https://localhost:8080/"
    },
    "id": "M10RlrHWpE9Y",
    "outputId": "40bec6c3-4f2c-44ef-daad-0296ffd47ed1"
   },
   "outputs": [],
   "source": [
    "!pip install svgling"
   ]
  },
  {
   "cell_type": "code",
   "execution_count": null,
   "metadata": {
    "colab": {
     "base_uri": "https://localhost:8080/"
    },
    "id": "SH9eGijQfa0U",
    "outputId": "f2378a40-74fd-4c80-b030-b5f777900eaf"
   },
   "outputs": [],
   "source": [
    "import nltk\n",
    "import svgling\n",
    "nltk.download('punkt')\n",
    "nltk.download('punkt_tab')\n",
    "nltk.download('averaged_perceptron_tagger_eng')\n",
    "nltk.download('maxent_ne_chunker_tab')\n",
    "nltk.download('words')\n",
    "nltk.download('vader_lexicon')\n",
    "#these are all the libraries used and i had to download from nltk"
   ]
  },
  {
   "cell_type": "code",
   "execution_count": null,
   "metadata": {
    "colab": {
     "base_uri": "https://localhost:8080/"
    },
    "id": "_ZBOWfdHfnkH",
    "outputId": "4cfb2167-4261-430f-c5e7-b68ee93f78b3"
   },
   "outputs": [],
   "source": [
    "tokens=nltk.word_tokenize(example)\n",
    "tokens[:10]\n",
    "#splits sentences into words, keeping punctuation as it is"
   ]
  },
  {
   "cell_type": "code",
   "execution_count": null,
   "metadata": {
    "colab": {
     "base_uri": "https://localhost:8080/"
    },
    "id": "H-80uc5rfrjW",
    "outputId": "87395780-b92c-4796-ecc0-89929613603c"
   },
   "outputs": [],
   "source": [
    "tagged=nltk.pos_tag(tokens)\n",
    "tagged[:10]"
   ]
  },
  {
   "cell_type": "code",
   "execution_count": null,
   "metadata": {
    "colab": {
     "base_uri": "https://localhost:8080/"
    },
    "id": "MhhNVrjJf_Cs",
    "outputId": "68351702-32f6-4214-a8cc-3d329d61ce95"
   },
   "outputs": [],
   "source": [
    "entities=nltk.chunk.ne_chunk(tagged)\n",
    "entities.pprint()\n",
    "#we basically divided words into chunks, considering their parts of speech tags."
   ]
  },
  {
   "cell_type": "markdown",
   "metadata": {
    "id": "-lfnrQYHpacB"
   },
   "source": [
    "#Step1: VADER Sentiment Scoring"
   ]
  },
  {
   "cell_type": "markdown",
   "metadata": {
    "id": "-q2p5f_jpfz5"
   },
   "source": [
    "We will use NLTK's SentimentIntensityAnalyzer to get the neg/neu/pos scores of the text.\n",
    "\n",
    "This uses a \"bag of words\" approach:\n",
    "\n",
    "*   Stop words are removed\n",
    "*   each word is scored and combined to a total score.\n",
    "\n",
    "\n",
    "\n"
   ]
  },
  {
   "cell_type": "code",
   "execution_count": null,
   "metadata": {
    "id": "wPUHwh1MowNk"
   },
   "outputs": [],
   "source": [
    "from nltk.sentiment import SentimentIntensityAnalyzer\n",
    "from tqdm.notebook import tqdm\n",
    "\n",
    "sia=SentimentIntensityAnalyzer()"
   ]
  },
  {
   "cell_type": "code",
   "execution_count": null,
   "metadata": {
    "colab": {
     "base_uri": "https://localhost:8080/"
    },
    "id": "8pLZ-rGcqJqc",
    "outputId": "7af72dc2-d21e-4173-f107-b47233a35aff"
   },
   "outputs": [],
   "source": [
    "sia.polarity_scores('I am so happy!')\n",
    "#tells us how positive or negative a sentence is"
   ]
  },
  {
   "cell_type": "code",
   "execution_count": null,
   "metadata": {
    "colab": {
     "base_uri": "https://localhost:8080/"
    },
    "id": "24PiFT4SqTsi",
    "outputId": "aeea57af-f765-472a-d322-8f1272e7bdff"
   },
   "outputs": [],
   "source": [
    "sia.polarity_scores('I am a loser.')"
   ]
  },
  {
   "cell_type": "code",
   "execution_count": null,
   "metadata": {
    "colab": {
     "base_uri": "https://localhost:8080/"
    },
    "id": "rKs00zN5rC-K",
    "outputId": "fbdb602d-0ec9-402a-e4a8-dd92adb9abfb"
   },
   "outputs": [],
   "source": [
    "sia.polarity_scores(example)"
   ]
  },
  {
   "cell_type": "code",
   "execution_count": null,
   "metadata": {
    "colab": {
     "base_uri": "https://localhost:8080/",
     "height": 49,
     "referenced_widgets": [
      "5b51e8e1026740129e63ef9124ecde05",
      "67bc725c6e9745178f87d10cf5c3ede9",
      "12bcfa1bc1f74a3b8450dbf8c755d08d",
      "9c564423c3b542e5957b135533482c56",
      "cc993bd030d44703ba3c174e7db4fcd1",
      "7c380febcc4042c594cb9b8e54e355eb",
      "479efa85211d4134bfdbcd795bdff433",
      "354477208831442d831ef7a6c16fe68a",
      "9a56cf709b3846eda274537bd5e48e0b",
      "2dae1608e57548f89f460815d7ad8bb0",
      "388a401999b94128a44ddbc69e7e510c"
     ]
    },
    "id": "bsS0HAj0rJLk",
    "outputId": "23e37aca-6859-478a-b707-c1d28df10586"
   },
   "outputs": [],
   "source": [
    "#run the polarity score on entire dataset\n",
    "res={}\n",
    "for i, row in tqdm(df.iterrows(),total=len(df)):\n",
    "  text=row['Text']\n",
    "  myid=row['Id']\n",
    "  res[myid]=sia.polarity_scores(text)"
   ]
  },
  {
   "cell_type": "code",
   "execution_count": null,
   "metadata": {
    "id": "P772l7qhrTdk"
   },
   "outputs": [],
   "source": [
    "vaders=pd.DataFrame(res).T\n",
    "vaders=vaders.reset_index().rename(columns={'index':'Id'})\n",
    "vaders=vaders.merge(df,how='left')"
   ]
  },
  {
   "cell_type": "code",
   "execution_count": null,
   "metadata": {
    "colab": {
     "base_uri": "https://localhost:8080/",
     "height": 695
    },
    "id": "DbQCBmV0sAbV",
    "outputId": "500182ea-1b9f-4dbb-8091-f1d3a5b0d7e5"
   },
   "outputs": [],
   "source": [
    "#now we have sentiment score and metadata\n",
    "vaders.head()"
   ]
  },
  {
   "cell_type": "markdown",
   "metadata": {
    "id": "RlxBGAJEs_bR"
   },
   "source": [
    "#Plot VADER Results"
   ]
  },
  {
   "cell_type": "code",
   "execution_count": null,
   "metadata": {
    "colab": {
     "base_uri": "https://localhost:8080/",
     "height": 477
    },
    "id": "hFrKUtzrssWI",
    "outputId": "a33d8a32-b074-43e1-b439-88ada4cda903"
   },
   "outputs": [],
   "source": [
    "ax=sns.barplot(data=vaders,x='Score',y='compound')\n",
    "ax.set_title('Compund Score by Amaazon Star Review')\n",
    "plt.show()"
   ]
  },
  {
   "cell_type": "code",
   "execution_count": null,
   "metadata": {
    "colab": {
     "base_uri": "https://localhost:8080/",
     "height": 170
    },
    "id": "ZR-vnS5htNRy",
    "outputId": "a2d4b6b4-1328-4b6e-b1d0-5a24cf034dd8"
   },
   "outputs": [],
   "source": [
    "fig,axs=plt.subplots(1,3,figsize=(12,3))\n",
    "sns.barplot(data=vaders,x='Score',y='pos',ax=axs[0])\n",
    "sns.barplot(data=vaders,x='Score',y='neu',ax=axs[1])\n",
    "sns.barplot(data=vaders,x='Score',y='neg',ax=axs[2])\n",
    "axs[0].set_title('Positive')\n",
    "axs[1].set_title('Neutral')\n",
    "axs[2].set_title('Negative')\n",
    "plt.tight_layout()\n",
    "plt.show()"
   ]
  },
  {
   "cell_type": "markdown",
   "metadata": {
    "id": "Q5un0moLOq6-"
   },
   "source": [
    "#Step 3: Roberta Pretrained Model"
   ]
  },
  {
   "cell_type": "markdown",
   "metadata": {
    "id": "9rEi2ybaOvds"
   },
   "source": [
    "\n",
    "\n",
    "*   Use a model trained of a large corpus of data.\n",
    "*   Transformer model accounts for the words but also the context related to other words.\n",
    "\n",
    "\n",
    "\n",
    "\n",
    "\n"
   ]
  },
  {
   "cell_type": "code",
   "execution_count": null,
   "metadata": {
    "id": "_wEnyHJot2kz"
   },
   "outputs": [],
   "source": [
    "from transformers import AutoTokenizer\n",
    "from transformers import AutoModelForSequenceClassification\n",
    "from scipy.special import softmax"
   ]
  },
  {
   "cell_type": "code",
   "execution_count": null,
   "metadata": {
    "colab": {
     "base_uri": "https://localhost:8080/",
     "height": 333,
     "referenced_widgets": [
      "f8fae27abffe4d40ba67a16978880b5a",
      "f615cd93f9844b568fb054cfbef640bd",
      "352cc856383247668003c2ac820b70dd",
      "b9c06e0234df43a49652cd3f67e32980",
      "36be8ef5edc84a18a64bc4e8f714f2bb",
      "dc7750dff656405ebc2d11fbafc4d9ac",
      "345ce81902174aa6bab9b6c59a23d54d",
      "65ab2ad067274f389aacaa76e988e074",
      "14a2fb2894d1480e9d63c95507bea077",
      "a73981063a2d4466b315da47683b88eb",
      "2d5990b2be604a839a31d9c337a8575e",
      "cca68699cadf408abcbf6da055dc4e69",
      "de5b4b4675e14db6b5c6c06ad25cd189",
      "169e454ef633427a9b5772e0db0182d5",
      "e3680257acc9486e9fcfb78c16a867e1",
      "28e36cedbedd4c5aba4b0aed277a881b",
      "309f3af430144d9b876bfe8246c66cfa",
      "b78f3ebbb4d140718d3ae017f78addc1",
      "52baa675fbab4c0889ca740b2afc8b01",
      "84265cb474354757b66519a837a8aaeb",
      "4326d50ae3794c95bb2fa40f58543ad2",
      "5faea7ae77904fb188321a5a58d5ef99",
      "5150a6cfd6a24270927669186fedb35e",
      "c32561b5e71c4240ba12304f27954cb3",
      "3f82f6a9c08d44a48f181891a608d3e0",
      "dfea32fa01844c16a0389c0d24475d54",
      "cbde37e1cbeb47f3a36d6f0415e5d37e",
      "ee06f16d8c2442ccab8b3d2715964670",
      "4528aa6705af46dbb0cde2cc8de677e0",
      "e6aabe51e09c42008984627651841a6b",
      "1fa6eacaf2b84821907e6c16fa325d48",
      "9bdd0bf0484d4de7bc2b5d144de04866",
      "82823ccfde2942b69aa662d253363c10",
      "ab0b9532aab1454e971bb4eb58e4f41f",
      "a440b56ea92d4cf69e74ce4dcafe0c47",
      "8857bd07cd1246c18b9a2146bc479447",
      "2304efd8720a492eb02186a2075d8198",
      "fad2e5b120a34f998677955ffd6fe4af",
      "d76de544e5f344eea26e4304a784f7fc",
      "c0584be231984ebe96edb04736ee1b45",
      "7415f41899654efe80dc18f93b3d5d33",
      "0ce1036ebee04a3f9ec55fc531cd0da8",
      "d92e984d37954c2d9384f9a90f893c74",
      "2f2479ce3fa34accaacbc60027a3d935",
      "7237641388e74a80b4a0b6f88709eab8",
      "9832039499e04c36876aea97de78321d",
      "83c83919328e4116816db18e8ed3c973",
      "2cd2fa077d0c49bf88490c264e7f1641",
      "512fc0c4e1ac455eab13d0f5008c09a6",
      "f14ff6de0f3048b59317744b1d7890af",
      "d665c8cf8d9f4d23b6e25148368208cd",
      "946425b030c4484f919e7b85505187b7",
      "8a1f1091506e41d993cb54c5818878fb",
      "b6518b19f923472387d5a18a40910019",
      "0d1d38f5d8df40999d2b999f7fa5a4fd",
      "3631d122b243426dbc0cfdbe762970e8",
      "34048578a1a948e18106c817f6a5746c",
      "ae51940e3bc74dc6adf51acaf64c9b8d",
      "ff3d29424f6b4341adb73977fcd6670e",
      "1523403866114848a9d8754805313b1e",
      "da51edaf81fc4bf8bdc0f024e715b19d",
      "4677b7a581fe4e9da3b8f1a2ffa78e3d",
      "84df413cf5664b85a4754fbe8cd7e98c",
      "ea2526db23244740954a8efd5eb95dcb",
      "f3f92434d8a243c4827938a7c0e4a42a",
      "4da46f500fd547cd8221e88ef52411de"
     ]
    },
    "id": "R_6crfKHPVXy",
    "outputId": "9fbf3aaf-8983-41c2-ba8f-5f380ecbc48f"
   },
   "outputs": [],
   "source": [
    "MODEL = f\"cardiffnlp/twitter-roberta-base-sentiment\"\n",
    "tokenizer = AutoTokenizer.from_pretrained(MODEL)\n",
    "model = AutoModelForSequenceClassification.from_pretrained(MODEL)\n",
    "#here we used a predefined transformer model"
   ]
  },
  {
   "cell_type": "code",
   "execution_count": null,
   "metadata": {
    "colab": {
     "base_uri": "https://localhost:8080/"
    },
    "id": "0mRza94DPmAO",
    "outputId": "1d7e58c6-9ea5-40ad-a930-8c2a3194a278"
   },
   "outputs": [],
   "source": [
    "#vader results on example\n",
    "print(example)\n",
    "sia.polarity_scores(example)"
   ]
  },
  {
   "cell_type": "code",
   "execution_count": null,
   "metadata": {
    "colab": {
     "base_uri": "https://localhost:8080/"
    },
    "id": "XHPZXtfLQB7p",
    "outputId": "823d85ab-3fe1-4795-ed52-847d1183c229"
   },
   "outputs": [],
   "source": [
    "#run for roberta model\n",
    "encoded_text=tokenizer(example,return_tensors='pt')\n",
    "output=model(**encoded_text)\n",
    "scores=output[0][0].detach().numpy()\n",
    "scores=softmax(scores)\n",
    "scores_dict={\n",
    "    'roberta_neg':scores[0],\n",
    "    'roberta_neu':scores[1],\n",
    "    'roberta_pos':scores[2]\n",
    "}\n",
    "print(scores_dict)"
   ]
  },
  {
   "cell_type": "code",
   "execution_count": null,
   "metadata": {
    "id": "im0GDk_hQnRS"
   },
   "outputs": [],
   "source": [
    "def polarity_scores_roberta(example):\n",
    "  encoded_text=tokenizer(example,return_tensors='pt')\n",
    "  output=model(**encoded_text)\n",
    "  scores=output[0][0].detach().numpy()\n",
    "  scores=softmax(scores)\n",
    "  scores_dict={\n",
    "    'roberta_neg':scores[0],\n",
    "    'roberta_neu':scores[1],\n",
    "    'roberta_pos':scores[2]\n",
    "}\n",
    "  return scores_dict"
   ]
  },
  {
   "cell_type": "code",
   "execution_count": null,
   "metadata": {
    "colab": {
     "base_uri": "https://localhost:8080/",
     "height": 84,
     "referenced_widgets": [
      "6ff6cebb70814d6d85e13749dfac28ac",
      "66d3ef34f33b426bb9918f9ec5b908f0",
      "cf22832da2df46adb99830ac91f1cb0d",
      "f75e2178c158476cbc8479517ae28a0d",
      "551f5a93b43846a48f33585bc2797fa3",
      "9c606dd8f28e4fcda405746dd43bd0f0",
      "7b913e79fbfb459e867b998e659cad22",
      "d41e835b7f944058bd5e6244b0d8b65b",
      "c8354e5d44984e06abdb7b3572b35571",
      "46e30067db4e484ca12bb4381028e241",
      "ca4972f4e215445caf5aa0cdde7ec918"
     ]
    },
    "id": "08u_4o5mTCqx",
    "outputId": "32614c1d-7d4a-4898-d1e6-17764e16baf6"
   },
   "outputs": [],
   "source": [
    "res={}\n",
    "for i, row in tqdm(df.iterrows(),total=len(df)):\n",
    "  try:\n",
    "    text=row['Text']\n",
    "    myid=row['Id']\n",
    "    vader_result=sia.polarity_scores(text)\n",
    "    vader_result_rename = {}\n",
    "    for key, value in vader_result.items():\n",
    "        vader_result_rename[f\"vader_{key}\"] = value\n",
    "\n",
    "    roberta_result=polarity_scores_roberta(text)\n",
    "    both={**vader_result, **roberta_result}\n",
    "    res[myid]=both\n",
    "  except RuntimeError:\n",
    "    print(f'Broke for id{myid}')"
   ]
  },
  {
   "cell_type": "code",
   "execution_count": null,
   "metadata": {
    "colab": {
     "base_uri": "https://localhost:8080/"
    },
    "id": "sYWDW7swU2hW",
    "outputId": "60c7863a-50de-4803-dcfe-e9fa2b560bb3"
   },
   "outputs": [],
   "source": [
    "both"
   ]
  },
  {
   "cell_type": "code",
   "execution_count": null,
   "metadata": {
    "id": "oV-ZzHrJk0Nt"
   },
   "outputs": [],
   "source": [
    "results_df=pd.DataFrame(res).T\n",
    "results_df=results_df.reset_index().rename(columns={'index':'Id'})\n",
    "results_df=results_df.merge(df,how='left')"
   ]
  },
  {
   "cell_type": "code",
   "execution_count": null,
   "metadata": {
    "colab": {
     "base_uri": "https://localhost:8080/",
     "height": 695
    },
    "id": "91j-lrKUopNj",
    "outputId": "cc9ddab4-2b53-43c0-c5dc-d2300e3f7f5e"
   },
   "outputs": [],
   "source": [
    "results_df.head()"
   ]
  },
  {
   "cell_type": "markdown",
   "metadata": {
    "id": "Aud7xOWko16D"
   },
   "source": [
    "#Compare Scores"
   ]
  },
  {
   "cell_type": "code",
   "execution_count": null,
   "metadata": {
    "colab": {
     "base_uri": "https://localhost:8080/"
    },
    "id": "tEQVy9qOpBvJ",
    "outputId": "1321c4ac-0a48-4bd8-c0f2-c1a6db8ad4c0"
   },
   "outputs": [],
   "source": [
    "results_df.columns"
   ]
  },
  {
   "cell_type": "code",
   "execution_count": null,
   "metadata": {
    "colab": {
     "base_uri": "https://localhost:8080/",
     "height": 612
    },
    "id": "trdL13uVovXM",
    "outputId": "7cd95f25-abf9-4a49-90a6-75546c9223b2"
   },
   "outputs": [],
   "source": [
    "sns.pairplot(data=results_df,\n",
    "             vars=['neg', 'neu', 'pos', 'roberta_neg', 'roberta_neu',\n",
    "                  'roberta_pos'],\n",
    "             hue='Score',\n",
    "             palette='tab10')\n",
    "plt.show()"
   ]
  },
  {
   "cell_type": "markdown",
   "metadata": {
    "id": "qYdQZCKtrK0K"
   },
   "source": [
    "#Step 4: Review Examples"
   ]
  },
  {
   "cell_type": "markdown",
   "metadata": {
    "id": "N4Ppmd_SrR_Z"
   },
   "source": [
    "*   Positive 1-Star and Negative 5-Star Reviews\n",
    "\n",
    "Lets look at some examples where the model scoring and review score differ the most."
   ]
  },
  {
   "cell_type": "code",
   "execution_count": null,
   "metadata": {
    "colab": {
     "base_uri": "https://localhost:8080/",
     "height": 70
    },
    "id": "JY9h56GZpbsd",
    "outputId": "cf81bf54-98f2-41a2-c1c7-f80611775757"
   },
   "outputs": [],
   "source": [
    "results_df.query('Score==1').sort_values('roberta_pos',ascending=False)['Text'].values[0]"
   ]
  },
  {
   "cell_type": "code",
   "execution_count": null,
   "metadata": {
    "colab": {
     "base_uri": "https://localhost:8080/",
     "height": 53
    },
    "id": "syXeJhvns82p",
    "outputId": "2ae316dc-8100-4221-ffdd-e7485004e238"
   },
   "outputs": [],
   "source": [
    "results_df.query('Score==1').sort_values('pos',ascending=False)['Text'].values[0]"
   ]
  },
  {
   "cell_type": "code",
   "execution_count": null,
   "metadata": {
    "colab": {
     "base_uri": "https://localhost:8080/",
     "height": 53
    },
    "id": "Ax2kBzNCtBDR",
    "outputId": "49369c32-516c-40e4-ae70-597dca1b9645"
   },
   "outputs": [],
   "source": [
    "#negative sentiment 5 star view\n",
    "results_df.query('Score==5').sort_values('roberta_neg',ascending=False)['Text'].values[0]"
   ]
  },
  {
   "cell_type": "code",
   "execution_count": null,
   "metadata": {
    "colab": {
     "base_uri": "https://localhost:8080/",
     "height": 53
    },
    "id": "A2zlGi8ZtMlB",
    "outputId": "1cd4d99f-ec0e-49b7-c320-6cc5202c5f6e"
   },
   "outputs": [],
   "source": [
    "results_df.query('Score==5').sort_values('neg',ascending=False)['Text'].values[0]"
   ]
  },
  {
   "cell_type": "markdown",
   "metadata": {
    "id": "oXU6PaT4tXZp"
   },
   "source": [
    "#Extra: The transformers Pipeline"
   ]
  },
  {
   "cell_type": "markdown",
   "metadata": {
    "id": "IrZ4f2kMtl14"
   },
   "source": [
    "*  Quick & easy way to run sentimental predictions\n",
    "\n"
   ]
  },
  {
   "cell_type": "code",
   "execution_count": null,
   "metadata": {
    "colab": {
     "base_uri": "https://localhost:8080/",
     "height": 217,
     "referenced_widgets": [
      "5f320891682e41dab5add5fa684e4974",
      "db6eb508839d4fca96d0ece17ad9f412",
      "afa089e27c1947f5a7e3edbb3bb04778",
      "69ab08eede98479aa795abf35010e8ef",
      "9af439b0b4e643478d2405f36d8c6efc",
      "e942c1663af94f33b3be85a2aa82c598",
      "bd5b393852374a499921f00635f11797",
      "76e6de15032a42e6ae6c8373d3b0a3e6",
      "11ae9266733d49e180dbfc761ee0db18",
      "055ea0685d8841d1a76da4544a6c89d8",
      "ba7f80ad78844726aec63b6f5faf0b3a",
      "09b1a98fd96444abb2d3896cac2a390e",
      "88f59cb197f44e6e855ee947352df627",
      "9f253b2eb9044d7781a4cf1aece7b3f8",
      "3bcadf35359a41cb9e209b1702997331",
      "992b0415488a48288a1894418c2c34c4",
      "d8ed89bc4bc84f55955a086541c1f5e5",
      "a3ad56f9e9354e04882ee4b3073f15d4",
      "9f0837b6bf514a7db6d0643d7333fa49",
      "34425ef6577844eb89260f10ff5e1e3d",
      "f344169a62f74297ba0d1dc6cef6f937",
      "b255676e0ac44b0ba7895ec3adf009c7",
      "6d725899963640b78449ce6a5da12e67",
      "1cd5ac676ec14fa98b2ab5208a4a479d",
      "a77c19094c5141e69196404e481be5da",
      "a6ca2e507bf745d7b3d9faf1aaa4b237",
      "2441381177ce4188b1e1b3a81c5e6434",
      "d7a1ff89b3bb4e6f8087d0567548cd4c",
      "c940a3d1f8d642b68c6e8b6ae2e89337",
      "5af57789181d4c5cab2a857ece2a228c",
      "35568563625f4072a3f87976d238b6f1",
      "0b1f10cc2875431891b1f7fa89454e85",
      "67cd8f74b2034d80b4075cc39bb7e72c",
      "aad3d2ec04db4a7fa2c5a5d95b52adbd",
      "fc887592f63e4a0d885e51b6c562894f",
      "577e3ce0bf4d408786f93b8957292af6",
      "c8da22119fb8446c8a8fc726b943c575",
      "f326f01e5d85420eaf5357eecb11267c",
      "d71b0951edc54170ba14d60d9761cd87",
      "d57305434c754e1d8cffb94607b1afd3",
      "e788399a596a424ea636c2f1fe686e14",
      "97fab1396d284a35b2b51d4fc20b15de",
      "a939898a074a4cfd8de071b078c71412",
      "dc4ed0e4755e42e0bb16fdf318e1e4fb"
     ]
    },
    "id": "xz2j5iTrtS8h",
    "outputId": "0d1b9e0c-63ea-4804-82d2-00a19c6e8fce"
   },
   "outputs": [],
   "source": [
    "from transformers import pipeline\n",
    "\n",
    "sent_pipeline=pipeline(\"sentiment-analysis\")"
   ]
  },
  {
   "cell_type": "code",
   "execution_count": null,
   "metadata": {
    "colab": {
     "base_uri": "https://localhost:8080/"
    },
    "id": "-MZ87DZtuCpD",
    "outputId": "a9395bc5-a6f2-4a0a-f455-211ccd0fcb7b"
   },
   "outputs": [],
   "source": [
    "sent_pipeline('I love sentiment analysis!')"
   ]
  },
  {
   "cell_type": "code",
   "execution_count": null,
   "metadata": {
    "colab": {
     "base_uri": "https://localhost:8080/"
    },
    "id": "gKre7UsBucqF",
    "outputId": "64dcbc3a-bb6d-4401-b8ba-0cdcb2f66cc6"
   },
   "outputs": [],
   "source": [
    "sent_pipeline('I hate coding!')"
   ]
  },
  {
   "cell_type": "code",
   "execution_count": null,
   "metadata": {
    "id": "3Hk8b3ZvD7Cl"
   },
   "outputs": [],
   "source": []
  }
 ],
 "metadata": {
  "colab": {
   "provenance": []
  },
  "kernelspec": {
   "display_name": "Python 3",
   "name": "python3"
  },
  "language_info": {
   "name": "python"
  }
 },
 "nbformat": 4,
 "nbformat_minor": 0
}
